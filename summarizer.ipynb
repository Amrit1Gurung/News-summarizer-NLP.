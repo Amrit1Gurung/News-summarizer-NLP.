{
 "cells": [
  {
   "cell_type": "code",
   "execution_count": 41,
   "metadata": {},
   "outputs": [],
   "source": [
    "import pandas as pd\n",
    "import numpy as np\n",
    "import matplotlib.pyplot as plt\n",
    "%matplotlib inline\n",
    "\n",
    "import re\n",
    "\n",
    "# spacy for lemmatization\n",
    "import spacy\n",
    "import nltk\n",
    "from nltk.util import ngrams   \n",
    "from nltk.tokenize import word_tokenize, sent_tokenize\n",
    "from nltk.corpus import stopwords\n",
    "from nltk.stem import WordNetLemmatizer\n",
    "\n",
    "import collections\n",
    "import string\n",
    "from sklearn.feature_extraction.text import TfidfVectorizer\n",
    "from heapq import nlargest\n",
    "\n",
    "# Enable logging for gensim - optional\n",
    "import logging\n",
    "logging.basicConfig(format='%(asctime)s : %(levelname)s : %(message)s', level=logging.ERROR)\n",
    "\n",
    "import warnings\n",
    "warnings.filterwarnings(\"ignore\",category=DeprecationWarning)"
   ]
  },
  {
   "cell_type": "code",
   "execution_count": 42,
   "metadata": {},
   "outputs": [
    {
     "data": {
      "text/plain": [
       "(180, 6)"
      ]
     },
     "execution_count": 42,
     "metadata": {},
     "output_type": "execute_result"
    }
   ],
   "source": [
    "newsarticles = pd.read_csv('news_articles.csv')\n",
    "newsarticles.shape"
   ]
  },
  {
   "cell_type": "code",
   "execution_count": 43,
   "metadata": {},
   "outputs": [
    {
     "data": {
      "text/html": [
       "<div>\n",
       "<style scoped>\n",
       "    .dataframe tbody tr th:only-of-type {\n",
       "        vertical-align: middle;\n",
       "    }\n",
       "\n",
       "    .dataframe tbody tr th {\n",
       "        vertical-align: top;\n",
       "    }\n",
       "\n",
       "    .dataframe thead th {\n",
       "        text-align: right;\n",
       "    }\n",
       "</style>\n",
       "<table border=\"1\" class=\"dataframe\">\n",
       "  <thead>\n",
       "    <tr style=\"text-align: right;\">\n",
       "      <th></th>\n",
       "      <th>Unnamed: 0</th>\n",
       "      <th>Title</th>\n",
       "      <th>date</th>\n",
       "      <th>Article</th>\n",
       "      <th>Category</th>\n",
       "      <th>PageLinks</th>\n",
       "    </tr>\n",
       "  </thead>\n",
       "  <tbody>\n",
       "    <tr>\n",
       "      <th>0</th>\n",
       "      <td>0</td>\n",
       "      <td>For some, the pandemic is an opportunity to st...</td>\n",
       "      <td>September 6, 2020</td>\n",
       "      <td>By six every morning, Kinchu Lhamo Bhutia is o...</td>\n",
       "      <td>National</td>\n",
       "      <td>https://kathmandupost.com/national/2020/09/06/...</td>\n",
       "    </tr>\n",
       "    <tr>\n",
       "      <th>1</th>\n",
       "      <td>1</td>\n",
       "      <td>Smugglers in Dadeldhura haphazardly fell trees...</td>\n",
       "      <td>September 6, 2020</td>\n",
       "      <td>Hundreds of trees have been felled down on the...</td>\n",
       "      <td>National</td>\n",
       "      <td>https://kathmandupost.com/sudurpaschim-provinc...</td>\n",
       "    </tr>\n",
       "    <tr>\n",
       "      <th>2</th>\n",
       "      <td>2</td>\n",
       "      <td>Around 40 percent government staff haven’t rec...</td>\n",
       "      <td>September 6, 2020</td>\n",
       "      <td>The Rautahat District Treasury Comptroller’s O...</td>\n",
       "      <td>National</td>\n",
       "      <td>https://kathmandupost.com/national/2020/09/06/...</td>\n",
       "    </tr>\n",
       "    <tr>\n",
       "      <th>3</th>\n",
       "      <td>3</td>\n",
       "      <td>Relief distribution programme in Birgunj fails...</td>\n",
       "      <td>September 6, 2020</td>\n",
       "      <td>On Thursday, many residents of Ranighat in Bir...</td>\n",
       "      <td>National</td>\n",
       "      <td>https://kathmandupost.com/province-no-2/2020/0...</td>\n",
       "    </tr>\n",
       "    <tr>\n",
       "      <th>4</th>\n",
       "      <td>4</td>\n",
       "      <td>Job schemes come into question as virus-induce...</td>\n",
       "      <td>September 6, 2020</td>\n",
       "      <td>Last week, when a group of Nepalis were crossi...</td>\n",
       "      <td>National</td>\n",
       "      <td>https://kathmandupost.com/national/2020/09/06/...</td>\n",
       "    </tr>\n",
       "  </tbody>\n",
       "</table>\n",
       "</div>"
      ],
      "text/plain": [
       "   Unnamed: 0                                              Title  \\\n",
       "0           0  For some, the pandemic is an opportunity to st...   \n",
       "1           1  Smugglers in Dadeldhura haphazardly fell trees...   \n",
       "2           2  Around 40 percent government staff haven’t rec...   \n",
       "3           3  Relief distribution programme in Birgunj fails...   \n",
       "4           4  Job schemes come into question as virus-induce...   \n",
       "\n",
       "                date                                            Article  \\\n",
       "0  September 6, 2020  By six every morning, Kinchu Lhamo Bhutia is o...   \n",
       "1  September 6, 2020  Hundreds of trees have been felled down on the...   \n",
       "2  September 6, 2020  The Rautahat District Treasury Comptroller’s O...   \n",
       "3  September 6, 2020  On Thursday, many residents of Ranighat in Bir...   \n",
       "4  September 6, 2020  Last week, when a group of Nepalis were crossi...   \n",
       "\n",
       "   Category                                          PageLinks  \n",
       "0  National  https://kathmandupost.com/national/2020/09/06/...  \n",
       "1  National  https://kathmandupost.com/sudurpaschim-provinc...  \n",
       "2  National  https://kathmandupost.com/national/2020/09/06/...  \n",
       "3  National  https://kathmandupost.com/province-no-2/2020/0...  \n",
       "4  National  https://kathmandupost.com/national/2020/09/06/...  "
      ]
     },
     "execution_count": 43,
     "metadata": {},
     "output_type": "execute_result"
    }
   ],
   "source": [
    "newsarticles.head()"
   ]
  },
  {
   "cell_type": "code",
   "execution_count": 44,
   "metadata": {},
   "outputs": [],
   "source": [
    "newsarticles.drop('Unnamed: 0', axis = 1, inplace=True) # drop column Unnamed: 0"
   ]
  },
  {
   "cell_type": "code",
   "execution_count": 59,
   "metadata": {},
   "outputs": [
    {
     "data": {
      "text/plain": [
       "['National',\n",
       " 'Politics',\n",
       " 'Valley',\n",
       " 'Opinion',\n",
       " 'Money',\n",
       " 'Sports',\n",
       " 'Health',\n",
       " 'Food',\n",
       " 'Science & Technology']"
      ]
     },
     "execution_count": 59,
     "metadata": {},
     "output_type": "execute_result"
    }
   ],
   "source": [
    "# identifying news categories\n",
    "News_Category = list(newsarticles.Category.unique())\n",
    "News_Category"
   ]
  },
  {
   "cell_type": "markdown",
   "metadata": {},
   "source": [
    "So there are 9 news categories"
   ]
  },
  {
   "cell_type": "code",
   "execution_count": 45,
   "metadata": {},
   "outputs": [],
   "source": [
    "data = newsarticles.copy()"
   ]
  },
  {
   "cell_type": "code",
   "execution_count": 46,
   "metadata": {},
   "outputs": [],
   "source": [
    "# preprocessing to remove unwnated noises from text\n",
    "\n",
    "def preprocess(text):\n",
    "    data = text.lower()\n",
    "    \n",
    "    # remove new line characters if any\n",
    "    data = re.sub('\\s+', ' ', data)\n",
    "    \n",
    "    # remove distracting single quotes\n",
    "    data = re.sub(\"\\'\", \"\", data)\n",
    "    \n",
    "    # removving the square brackets, texts inside parenthesis\n",
    "    data = re.sub('\\[[^]]*\\]', '', data)\n",
    "    data = re.sub(r'\\([^)]*\\)', '', data)\n",
    "    \n",
    "    # removing special characters\n",
    "    data = re.sub(r'[^a-zA-z0-9\\s]','', data)\n",
    "    \n",
    "    return data\n",
    "    "
   ]
  },
  {
   "cell_type": "code",
   "execution_count": 47,
   "metadata": {},
   "outputs": [
    {
     "name": "stdout",
     "output_type": "stream",
     "text": [
      "Wall time: 286 ms\n"
     ]
    }
   ],
   "source": [
    "%%time\n",
    "data['Article'] = data['Article'].apply(preprocess)"
   ]
  },
  {
   "cell_type": "code",
   "execution_count": 48,
   "metadata": {},
   "outputs": [
    {
     "data": {
      "text/plain": [
       "'by six every morning kinchu lhamo bhutia is out of her house to buy chicken and buffalo meat buying the meat herself is one of her quality control measures for her business kinchus kitchen which sells frozen momos and buff and chicken pickles for a long time kinchus kitchen was just an idea in bhutias head bhutia a native of sikkim moved to kathmandu after getting married she had always wanted to start a business focusing on serving the kind of sikkimese food that she grew up eating but between helping her husbands pashmina business in kathmandu and raising her children she had very little time to do anything else as the nation went into a lockdown in march the familys pashmina shop in thamel had to be shut and bhutia found herself free time on april 16 nearly a month into the lockdown bhutia launched kinchus kitchen not long after launching her business it took off and since then kinchus kitchen has sold thousands of plates of momos and hundreds of bottles of meat pickles the pandemic and the subsequent lockdowns have crippled businesses across the country job losses and pay cuts have become common across industries however in these economically turbulent times some like bhutia have started online businesses that have taken off friends who had tried my food have always told me to start my own food business but i never really thought i would actually start it in the midst of a pandemic said bhutia two months after bhutia started her business sushmita manandhar started her online bakery shop  on june 16 manandhar a baking enthusiast has been baking for a decade i used to bake for my family and friends said manandhar but ever since i started helping my father with his business i got too busy to spend much time on baking but that changed during the lockdown during the lockdown our family business had to be shut and i had ample free time to bake and i resumed baking and shared my baked products with family friends and neighbours said manandhar one of my friends insisted that i sell my baked items online and on june 16 i created an instagram page bakeaway_nepal thats how my small venture was born on july 29 a few days after the nationwide lockdown was lifted yasodha tamang started cheli ko chulo an online momo venture for tamang a teacher by profession cooking has always been her way of expressing her love for family and friends during the lockdown my brother and i toyed with the idea of commercialising my passion for cooking said tamang and what better way than to start with momos before we started cheli ko chulo we sent our momos to our friends and loved ones and told them to give us their honest feedback the feedback was very positive which was very encouraging but when manandhar tamang and bhutia started their businesses they didnt expect to see success as quickly as they have the trios clientele in the initial days were mainly made up of friends and families when i began receiving orders from strangers that was when i realised the true potential of the business said manandhar for tamang and bhutia it was when their friends became repeat customers that they knew their business was going to do well i sell an average of 40 plates of momos a day said tamang on average bhutia sells 50 plates of momos and 30 bottles of pickles a day manandhar gets an average of five to six orders a day for cakes muffins and cupcakes and in a week she gets an average of six birthday cake orders for the first few weeks after launch i only did pickup services but when the orders started increasing i realised having home delivery services makes things much more convenient for customers said manandhar i then got in touch with a delivery company and started availing their services from july 6'"
      ]
     },
     "execution_count": 48,
     "metadata": {},
     "output_type": "execute_result"
    }
   ],
   "source": [
    "# Lets see if the processing above have done its work or not\n",
    "data['Article'][0]"
   ]
  },
  {
   "cell_type": "markdown",
   "metadata": {},
   "source": [
    "Ok. our preprocessing function have done its work"
   ]
  },
  {
   "cell_type": "code",
   "execution_count": 49,
   "metadata": {},
   "outputs": [],
   "source": [
    "# tokenizing, removing stopwords and short words\n",
    "stop_words = stopwords.words('english')\n",
    "def more_preprocess(text):\n",
    "    tokens = [w for w in text.split() if not w in stop_words]\n",
    "    long_words = []\n",
    "    for i in tokens:\n",
    "        if len(i) >= 3:\n",
    "            long_words.append(i)\n",
    "    return (\" \".join(long_words))"
   ]
  },
  {
   "cell_type": "code",
   "execution_count": 50,
   "metadata": {},
   "outputs": [
    {
     "name": "stdout",
     "output_type": "stream",
     "text": [
      "Wall time: 789 ms\n"
     ]
    }
   ],
   "source": [
    "%%time\n",
    "data['Article'] = data['Article'].apply(more_preprocess)"
   ]
  },
  {
   "cell_type": "code",
   "execution_count": 51,
   "metadata": {},
   "outputs": [
    {
     "data": {
      "text/plain": [
       "'six every morning kinchu lhamo bhutia house buy chicken buffalo meat buying meat one quality control measures business kinchus kitchen sells frozen momos buff chicken pickles long time kinchus kitchen idea bhutias head bhutia native sikkim moved kathmandu getting married always wanted start business focusing serving kind sikkimese food grew eating helping husbands pashmina business kathmandu raising children little time anything else nation went lockdown march familys pashmina shop thamel shut bhutia found free time april nearly month lockdown bhutia launched kinchus kitchen long launching business took since kinchus kitchen sold thousands plates momos hundreds bottles meat pickles pandemic subsequent lockdowns crippled businesses across country job losses pay cuts become common across industries however economically turbulent times like bhutia started online businesses taken friends tried food always told start food business never really thought would actually start midst pandemic said bhutia two months bhutia started business sushmita manandhar started online bakery shop june manandhar baking enthusiast baking decade used bake family friends said manandhar ever since started helping father business got busy spend much time baking changed lockdown lockdown family business shut ample free time bake resumed baking shared baked products family friends neighbours said manandhar one friends insisted sell baked items online june created instagram page bakeaway_nepal thats small venture born july days nationwide lockdown lifted yasodha tamang started cheli chulo online momo venture tamang teacher profession cooking always way expressing love family friends lockdown brother toyed idea commercialising passion cooking said tamang better way start momos started cheli chulo sent momos friends loved ones told give honest feedback feedback positive encouraging manandhar tamang bhutia started businesses didnt expect see success quickly trios clientele initial days mainly made friends families began receiving orders strangers realised true potential business said manandhar tamang bhutia friends became repeat customers knew business going well sell average plates momos day said tamang average bhutia sells plates momos bottles pickles day manandhar gets average five six orders day cakes muffins cupcakes week gets average six birthday cake orders first weeks launch pickup services orders started increasing realised home delivery services makes things much convenient customers said manandhar got touch delivery company started availing services july'"
      ]
     },
     "execution_count": 51,
     "metadata": {},
     "output_type": "execute_result"
    }
   ],
   "source": [
    "# checking to see if stop words have been removed or not. \n",
    "data['Article'][0]"
   ]
  },
  {
   "cell_type": "markdown",
   "metadata": {},
   "source": [
    "so there is no stopwords here."
   ]
  },
  {
   "cell_type": "code",
   "execution_count": 52,
   "metadata": {},
   "outputs": [],
   "source": [
    "# function for lemmatization\n",
    "def lemmatization(text):\n",
    "    #tokens = [text.split()]\n",
    "    allowed_postags=['NOUN', 'ADJ', 'VERB', 'ADV']\n",
    "    newString = nlp(text)\n",
    "    text_out = []\n",
    "    text_out.append([word.lemma_ for word in newString if word.pos_ in allowed_postags])\n",
    "    return text_out"
   ]
  },
  {
   "cell_type": "code",
   "execution_count": 53,
   "metadata": {},
   "outputs": [
    {
     "name": "stdout",
     "output_type": "stream",
     "text": [
      "Wall time: 35.3 s\n"
     ]
    }
   ],
   "source": [
    "%%time\n",
    "import spacy\n",
    "\n",
    "# Initialize spacy 'en' model, keeping only tagger component (for efficiency)\n",
    "# python3 -m spacy download en\n",
    "nlp = spacy.load('en', disable=['parser', 'ner'])\n",
    "\n",
    "# Do lemmatization keeping only noun, adj, vb, adv\n",
    "data['Article'] = data['Article'].apply(lemmatization)"
   ]
  },
  {
   "cell_type": "code",
   "execution_count": 54,
   "metadata": {},
   "outputs": [
    {
     "name": "stdout",
     "output_type": "stream",
     "text": [
      "[['morning', 'kinchu', 'buy', 'meat', 'buying', 'meat', 'quality', 'control', 'measure', 'business', 'sell', 'frozen', 'chicken', 'pickle', 'long', 'time', 'native', 'sikkim', 'move', 'get', 'marry', 'always', 'want', 'start', 'business', 'focus', 'serve', 'kind', 'sikkimese', 'food', 'grow', 'eat', 'help', 'husband', 'business', 'kathmandu', 'raise', 'child', 'little', 'time', 'else', 'nation', 'go', 'find', 'free', 'time', 'nearly', 'month', 'launch', 'long', 'launch', 'business', 'take', 'sell', 'thousand', 'plate', 'momos', 'hundred', 'bottle', 'meat', 'pickle', 'pandemic', 'subsequent', 'lockdown', 'cripple', 'business', 'country', 'job', 'loss', 'pay', 'cut', 'become', 'common', 'industry', 'however', 'economically', 'turbulent', 'time', 'start', 'online', 'business', 'take', 'friend', 'try', 'food', 'always', 'tell', 'start', 'food', 'business', 'never', 'really', 'think', 'would', 'actually', 'start', 'midst', 'say', 'month', 'start', 'start', 'online', 'bake', 'enthusiast', 'baking', 'decade', 'use', 'family', 'friend', 'say', 'ever', 'since', 'start', 'help', 'father', 'business', 'get', 'busy', 'spend', 'much', 'time', 'bake', 'change', 'lockdown', 'lockdown', 'family', 'business', 'shut', 'ample', 'free', 'time', 'bake', 'resume', 'bake', 'share', 'baked', 'product', 'family', 'friend', 'say', 'friend', 'insist', 'sell', 'item', 'create', 'instagram', 'page', 'bakeaway_nepal', 's', 'small', 'venture', 'bear', 'day', 'nationwide', 'lift', 'start', 'cheli', 'teacher', 'profession', 'cook', 'always', 'way', 'express', 'love', 'family', 'friend', 'lockdown', 'brother', 'toy', 'commercialise', 'passion', 'say', 'well', 'way', 'start', 'start', 'cheli', 'send', 'friend', 'love', 'one', 'tell', 'give', 'honest', 'feedback', 'feedback', 'positive', 'encourage', 'start', 'business', 'expect', 'see', 'success', 'quickly', 'trio', 'clientele', 'initial', 'day', 'mainly', 'make', 'friend', 'family', 'begin', 'receive', 'order', 'stranger', 'realise', 'true', 'potential', 'business', 'say', 'friend', 'become', 'repeat', 'customer', 'know', 'business', 'go', 'well', 'sell', 'average', 'plate', 'say', 'sell', 'plate', 'momos', 'bottle', 'get', 'average', 'order', 'day', 'cake', 'week', 'get', 'average', 'birthday', 'cake', 'order', 'first', 'week', 'launch', 'service', 'order', 'start', 'increase', 'realise', 'home', 'delivery', 'service', 'make', 'thing', 'much', 'convenient', 'customer', 'say', 'get', 'touch', 'delivery', 'company', 'start', 'avail', 'service']]\n"
     ]
    }
   ],
   "source": [
    "print(data['Article'][0])"
   ]
  },
  {
   "cell_type": "code",
   "execution_count": 35,
   "metadata": {},
   "outputs": [],
   "source": [
    "def func(docs):\n",
    "    x = docs[0]\n",
    "    return x\n",
    "\n",
    "data['Article'] = data['Article'].apply(func) # flatten list"
   ]
  },
  {
   "cell_type": "code",
   "execution_count": 37,
   "metadata": {},
   "outputs": [
    {
     "name": "stdout",
     "output_type": "stream",
     "text": [
      "['morning', 'kinchu', 'buy', 'meat', 'buying', 'meat', 'quality', 'control', 'measure', 'business', 'sell', 'frozen', 'chicken', 'pickle', 'long', 'time', 'native', 'sikkim', 'move', 'get', 'marry', 'always', 'want', 'start', 'business', 'focus', 'serve', 'kind', 'sikkimese', 'food', 'grow', 'eat', 'help', 'husband', 'business', 'kathmandu', 'raise', 'child', 'little', 'time', 'else', 'nation', 'go', 'find', 'free', 'time', 'nearly', 'month', 'launch', 'long', 'launch', 'business', 'take', 'sell', 'thousand', 'plate', 'momos', 'hundred', 'bottle', 'meat', 'pickle', 'pandemic', 'subsequent', 'lockdown', 'cripple', 'business', 'country', 'job', 'loss', 'pay', 'cut', 'become', 'common', 'industry', 'however', 'economically', 'turbulent', 'time', 'start', 'online', 'business', 'take', 'friend', 'try', 'food', 'always', 'tell', 'start', 'food', 'business', 'never', 'really', 'think', 'would', 'actually', 'start', 'midst', 'say', 'month', 'start', 'start', 'online', 'bake', 'enthusiast', 'baking', 'decade', 'use', 'family', 'friend', 'say', 'ever', 'since', 'start', 'help', 'father', 'business', 'get', 'busy', 'spend', 'much', 'time', 'bake', 'change', 'lockdown', 'lockdown', 'family', 'business', 'shut', 'ample', 'free', 'time', 'bake', 'resume', 'bake', 'share', 'baked', 'product', 'family', 'friend', 'say', 'friend', 'insist', 'sell', 'item', 'create', 'instagram', 'page', 'bakeaway_nepal', 's', 'small', 'venture', 'bear', 'day', 'nationwide', 'lift', 'start', 'cheli', 'teacher', 'profession', 'cook', 'always', 'way', 'express', 'love', 'family', 'friend', 'lockdown', 'brother', 'toy', 'commercialise', 'passion', 'say', 'well', 'way', 'start', 'start', 'cheli', 'send', 'friend', 'love', 'one', 'tell', 'give', 'honest', 'feedback', 'feedback', 'positive', 'encourage', 'start', 'business', 'expect', 'see', 'success', 'quickly', 'trio', 'clientele', 'initial', 'day', 'mainly', 'make', 'friend', 'family', 'begin', 'receive', 'order', 'stranger', 'realise', 'true', 'potential', 'business', 'say', 'friend', 'become', 'repeat', 'customer', 'know', 'business', 'go', 'well', 'sell', 'average', 'plate', 'say', 'sell', 'plate', 'momos', 'bottle', 'get', 'average', 'order', 'day', 'cake', 'week', 'get', 'average', 'birthday', 'cake', 'order', 'first', 'week', 'launch', 'service', 'order', 'start', 'increase', 'realise', 'home', 'delivery', 'service', 'make', 'thing', 'much', 'convenient', 'customer', 'say', 'get', 'touch', 'delivery', 'company', 'start', 'avail', 'service']\n"
     ]
    }
   ],
   "source": [
    "print(data['Article'][0])"
   ]
  },
  {
   "cell_type": "code",
   "execution_count": null,
   "metadata": {},
   "outputs": [],
   "source": []
  },
  {
   "cell_type": "code",
   "execution_count": 80,
   "metadata": {},
   "outputs": [],
   "source": [
    "def tfidf(data):\n",
    "    tfidf_vectorizer = TfidfVectorizer(analyzer='word', stop_words = 'english', sublinear_tf=True)\n",
    "    matrix = tfidf_vectorizer.fit_transform(data)\n",
    "    return matrix, tfidf_vectorizer\n",
    "\n",
    "def sentence_score(sentence: str, word_scores: dict):\n",
    "    words = sentence.split()\n",
    "    if len(words) < 50:\n",
    "        score = sum([word_scores.get(w.lower(),0) for w in words])\n",
    "    else:\n",
    "        score=0\n",
    "    return score\n",
    "\n",
    "\n",
    "# This function only summarizes one research paper at a time.\n",
    "def summarize(article_title):\n",
    "    articletext = newsarticles[newsarticles.Title == article_title].Article\n",
    "    list_corpus = list(articletext)\n",
    "    tfidf_matrix, tfidf_vectorizer = tfidf(list_corpus)  # tfidf_matrix shape is 1*1\n",
    "    \n",
    "    # Creating a dataframe with the words scores\n",
    "    # below dataframe shape will be (1,1)\n",
    "    word_scores_df = pd.DataFrame(tfidf_matrix.toarray(), columns = tfidf_vectorizer.get_feature_names())   \n",
    "    word_scores = dict(zip(list(word_scores_df.columns), list(word_scores_df.iloc[0])))  \n",
    "\n",
    "    # Split into sentences and replacing irrelevant characters\n",
    "    sentences_list = [nlp(s) for s in list(articletext.str.replace('\\n', '.').replace('\\r', '.'))]\n",
    "    sentences_list = str(sentences_list[0]).split('.')  # sentence tokenizing\n",
    "\n",
    "    # Assign scores and join the top sentences into the final summary\n",
    "    sentences_scores = {}\n",
    "    for s in sentences_list:\n",
    "        sentences_scores[s] = sentence_score(s, word_scores)\n",
    "\n",
    "    top_sentences = nlargest(5, sentences_scores, key=sentences_scores.get)\n",
    "    top_sentences = [s for s in top_sentences ]\n",
    "    summary = '. '.join(top_sentences)\n",
    "        \n",
    "    return summary"
   ]
  },
  {
   "cell_type": "code",
   "execution_count": 81,
   "metadata": {},
   "outputs": [],
   "source": [
    "def related_articles(search_word):\n",
    "    df_table = pd.DataFrame(columns = [\"Date\",\"Title\",\"ArticleSummary\"])\n",
    "    summaries = []\n",
    "    \n",
    "    articles_df = newsarticles[newsarticles['Category'] == search_word]\n",
    "    df_table.Date = list(articles_df.date)\n",
    "    df_table.Title = list(articles_df.Title)\n",
    "    \n",
    "    # create summaries\n",
    "    for title in list(df_table.Title):\n",
    "        summaries.append(summarize(title))\n",
    "    df_table.ArticleSummary = summaries\n",
    "    return df_table\n",
    "\n",
    "pd.options.display.max_colwidth = 1500"
   ]
  },
  {
   "cell_type": "code",
   "execution_count": 82,
   "metadata": {},
   "outputs": [
    {
     "data": {
      "text/html": [
       "<div>\n",
       "<style scoped>\n",
       "    .dataframe tbody tr th:only-of-type {\n",
       "        vertical-align: middle;\n",
       "    }\n",
       "\n",
       "    .dataframe tbody tr th {\n",
       "        vertical-align: top;\n",
       "    }\n",
       "\n",
       "    .dataframe thead th {\n",
       "        text-align: right;\n",
       "    }\n",
       "</style>\n",
       "<table border=\"1\" class=\"dataframe\">\n",
       "  <thead>\n",
       "    <tr style=\"text-align: right;\">\n",
       "      <th></th>\n",
       "      <th>Date</th>\n",
       "      <th>Title</th>\n",
       "      <th>ArticleSummary</th>\n",
       "    </tr>\n",
       "  </thead>\n",
       "  <tbody>\n",
       "    <tr>\n",
       "      <th>0</th>\n",
       "      <td>September 6, 2020</td>\n",
       "      <td>For some, the pandemic is an opportunity to start new businesses</td>\n",
       "      <td>“Friends who had tried my food have always told me to start my own food business but I never really thought I would actually start it in the midst of a pandemic,” said Bhutia.  “During the lockdown, our family business had to be shut, and I had ample free time to bake, and I resumed baking and shared my baked products with family, friends, and neighbours,” said Manandhar.   Two months after Bhutia started her business, Sushmita Manandhar started her online bakery shop (bakeaway_Nepal), on June 16.   Manandhar gets an average of five to six orders a day for cakes, muffins and cupcakes, and in a week she gets an average of six birthday cake orders.  But when the orders started increasing, I realised having home delivery services makes things much more convenient for customers,” said Manandhar</td>\n",
       "    </tr>\n",
       "    <tr>\n",
       "      <th>1</th>\n",
       "      <td>September 6, 2020</td>\n",
       "      <td>Smugglers in Dadeldhura haphazardly fell trees on pretext of constructing road</td>\n",
       "      <td>The incident came to light on August 22 when forest officials confiscated a large quantity of green sal logs on the road section that connects Godam bazaar in Aalital to Dola Village.   “Trees of Rajani Community Forest and the national forest adjacent to the community forest were felled haphazardly on the pretext of constructing the road,” said Ram Bahadur Kunwar, a local of Godam bazaar.   Locals said they cannot openly talk about the smugglers and timber smuggling in the forest because of an incident in which an individual, who provided information to the media about timber smuggling, was burnt alive by smugglers a decade ago.  “The spokesperson at the Division Forest Office in Dadeldhura will provide additional information about the tree felling in Rajani Community Forest and its vicinity. Hundreds of trees have been felled down on the pretext of constructing a ring road in the Chure forest area of Aalital Rural Municipality in Dadeldhura</td>\n",
       "    </tr>\n",
       "    <tr>\n",
       "      <th>2</th>\n",
       "      <td>September 6, 2020</td>\n",
       "      <td>Around 40 percent government staff haven’t received their salaries yet</td>\n",
       "      <td>For staffers at a government office to receive salaries, the office chief and chief accountant need to sign a payment order requesting the district treasury office to release funds.   “For example, the district treasury office in Singh Durbar has released the salaries of around 90 of the 100 offices under its ambit and the one in Teku has released the salaries of around 80 of the 87 offices it deals with,” said Bhurtel.  “The district treasury offices have released funds for the salaries of only 60 percent of government employees so far,” said Deputy Financial Comptroller General Bhesh Prasad Bhurtel.  Usually, the district treasury offices start releasing funds for salaries weeks before the end of the month based on financial details submitted by the concerned government offices. The Rautahat District Treasury Comptroller’s Office has not released the salaries of provincial staffers based in the district for Shrawan (mid-July-mid-August)</td>\n",
       "    </tr>\n",
       "    <tr>\n",
       "      <th>3</th>\n",
       "      <td>September 6, 2020</td>\n",
       "      <td>Relief distribution programme in Birgunj fails to cover vulnerable families</td>\n",
       "      <td>Meanwhile, Chief District Officer of Parsa Asman Tamang said the district administration had started distributing reliefs to impoverished families through the District Police Office and Birgunj Metropolis since the past few days. On Thursday, many residents of Ranighat in Birgunj Metropolis reached the District Police Office in Parsa to receive relief after hearing about the police office’s distribution programme through a local FM station.   Khatun had also reached the police office on Thursday to receive relief but was sent away since her name was not on the list of needy people prepared by the police office.  The office had collected data of the needy families in the metropolis but on Thursday those whose names were not listed had also reached the police office.  A resident of Ranighat in Birgunj Metropolis-11, Devi says her family has been robbed of the opportunity to work since the prohibitory order was imposed in the metropolis on July 25 to control the spread of Covid-19</td>\n",
       "    </tr>\n",
       "    <tr>\n",
       "      <th>4</th>\n",
       "      <td>September 6, 2020</td>\n",
       "      <td>Job schemes come into question as virus-induced unemployment hits rural youths hard</td>\n",
       "      <td>After Covid-19 rattled the world’s economy, leading to massive job losses for Nepali workers at home and abroad, the Nepal government has pledged to create more than 700,000 jobs in the current fiscal year to provide employment to those affected by the pandemic.   The Ministry of Labour, Employment and Social Security says that the programme generated employment opportunities for its target of 60,ooo people across the country in the fiscal year 2019-20.  Besides, the Labour Ministry has also received a soft loan of approximately Rs14 billion from the World Bank to implement the Youth Employment Transformation Initiative Project, a five-year project, under the employment programme. ”  Two years into its implementation, the Prime Minister Employment Programme, which promises a minimum 100 days of employment for unemployed registered citizens, have not shown promising results.  Purna Chandra Bhattarai, a former labour secretary, said the programme, despite promising a minimum 100 days of employment, has not been able to provide jobs for 50 days</td>\n",
       "    </tr>\n",
       "    <tr>\n",
       "      <th>5</th>\n",
       "      <td>September 5, 2020</td>\n",
       "      <td>Police suspect illegal gambling dens are thriving during Covid-19 restrictions</td>\n",
       "      <td>The number of arrests on illegal gambling charges has gone down as a result, say police who suspect that illegal gambling dens have thrived during these past six months of Covid-19 lockdown and restrictions.  According to the data provided by Metropolitan Police Office, Ranipokhari a total of 22 people were rounded up from illegal gambling joints in Kathmandu Valley in the last six months.  According to the data maintained by the Metropolitan Police Office, Rani Pokhari, more than Rs 19 million was recovered from 1,161 suspected gamblers from different parts of the Valley in the fiscal year 2018/19.   “We have not conducted that many raids in private houses in the past six months, as our personnel are busy due enforcing Covid-19 restrictions,” said Senior Superintendent of Police, Sushil Kumar Yadav, spokesperson for the Metropolitan Police Office, Ranipokhari. Every year, Nepal Police crack down on hundreds of illegal gambling dens which are operated mostly in private houses across the country and confiscate millions of rupees</td>\n",
       "    </tr>\n",
       "    <tr>\n",
       "      <th>6</th>\n",
       "      <td>September 5, 2020</td>\n",
       "      <td>Overstay fines become a hurdle for Nepali workers waiting to return home from the UAE</td>\n",
       "      <td>There are many Nepali workers in the UAE, including Khem and his three friends, whose visas expired after the March 1 cutoff date and now face overstay fines and thereby unable to return home unless they pay the fines.   According to Som Prasad Lamichhane, director with the Pravasi Nepali Coordination Committee, an organisation working for the rights of Nepali migrant workers, Nepal government could have taken a diplomatic initiative to waive off the overstay fines of migrant workers.  The UAE government’s ongoing amnesty programme for foreigners, including Nepali migrants, have given a three-month grace period to the foreigners whose visa expired before March 1, meaning they have until November to return to their countries without facing any punishments or fines for overstaying their visas.  “The UAE government had approached the Nepal government about sending back Nepali workers on free flights, but the Nepal government did not even give the landing permission,” Sherpa said.   According to Pasang Sherpa, vice-chairman of Non-Resident Nepalese Association (NRNA), UAE chapter, overstay fines are being charged only to those workers boarding their flights via Dubai airport as different emirates have different rules</td>\n",
       "    </tr>\n",
       "    <tr>\n",
       "      <th>7</th>\n",
       "      <td>September 5, 2020</td>\n",
       "      <td>Repatriation quandary persists even with funds to support migrant workers’ airfare</td>\n",
       "      <td>The guidelines state that the concerned recruiting agencies and foreign missions must first ensure the migrant workers have not received air tickets or other financial aid from their employers or host nations before they get support from the welfare fund to return home. The Supreme Court on June 15 ordered the government to repatriate the Nepali migrant workers stranded in various labour destinations by using the Foreign Employment Welfare Fund.  He argues the guidelines simply instruct the Nepali missions to contact the employers, recruiting agencies, or the host governments and check if the workers are getting any financial support for airfare so that they could return home.   Shom Prasad Luitel, lawyer who had filed the petition at the Supreme Court for repatriation of Nepali migrant workers, says the government and its embassies in labour hosting countries are not committed to the task of repatriating the stranded citizens.   Din Bandhu Subedi, spokesperson for the Foreign Employment Board, which manages the welfare fund, said the board had released Rs 4 million to the Nepal Embassy in Malaysia to send back 86 stranded workers</td>\n",
       "    </tr>\n",
       "    <tr>\n",
       "      <th>8</th>\n",
       "      <td>September 5, 2020</td>\n",
       "      <td>How politicians' chopper rides to disaster-hit areas fly in the face of spirit of federalism</td>\n",
       "      <td>The Disaster Risk Reduction and Management Act 2017 also envisions Disaster Risk Reduction and Management Provincial Council, Disaster Risk Reduction and Management Provincial Executive Committee in each of the seven provinces and local disaster management committees in the 753 local governments.   After the 2015 constitution ensured Nepal as a federal democratic republic, elections held in 2017 installed three tiers of government across the country–a federal government in Kathmandu, seven provincial governments and 753 local governments.  “I do not see any point in ministers and leaders from Kathmandu making rounds of every other disaster-hit areas, as provincial and local governments are already in place to respond to such events” said Khimlal Devkota, an expert on federal affairs who also writes extensively on fiscal federalism.  The federal government is already facing criticism for holding on to the concept of chief district officers and making them work as the Home Ministry’s liaison in the districts even in the current federal set-up.  While there is a worldwide practice of prime ministers or presidents visiting the places hit by a disaster or crisis of a large scale, such events are largely meant to instill the feeling into the citizens that the state is there to support them</td>\n",
       "    </tr>\n",
       "    <tr>\n",
       "      <th>9</th>\n",
       "      <td>September 4, 2020</td>\n",
       "      <td>Race begins for new finance minister as Oli bids farewell to Khatiwada</td>\n",
       "      <td>Yubaraj Khatiwada resigned as finance and information and communication technology minister on Friday, a day after the ruling Nepal Communist Party decided not to nominate him, again, as a member of the National Assembly, a prerequisite for him to continue in the Oli Cabinet.  “It had become obvious that the prime minister would bid farewell to the finance and communication minister, which he did today,” said Subash Nembang, a Standing Committee member who is a close confidante of Oli.  “Its political meaning is that Oli did not want to show that he is in a minority as Bishnu Poudel won’t go against Gautam,” said a Standing Committee member close to Madhav Nepal.  The Dahal faction, backed by senior leaders Madhav Kumar Nepal and Jhala Nath Khanal, had piled pressure on Oli to resign both as party chair and prime minister.   Leaders from the Dahal-Nepal faction said the Oli himself proposed Gautam for the Upper House as soon as the Secretariat meeting began on Thursday, sensing that annoying Gautam could push him into the minority</td>\n",
       "    </tr>\n",
       "    <tr>\n",
       "      <th>10</th>\n",
       "      <td>September 4, 2020</td>\n",
       "      <td>The good, bad and ugly of Yubaraj Khatiwada</td>\n",
       "      <td>“As a professional on economic issues, there were high hopes that the economy would take a leap under his leadership,” said Ram Sharan Mahat, a six-time finance minister who is known for introducing economic liberalisation in Nepal in the early 1990s.   “He failed to earn the trust of the market, particularly of the private sector and foreign investors,” said a former government official with a long experience in finance, economy and revenue issues.   Working in the capacity of the central bank governor and vice-chair of the planning commission, Khatiwada had built a good rapport with donor agencies like the World Bank and Asian Development Bank.   Despite severe criticism Khatiwada was facing after the latest budget, Oli was for giving continuation to him, as he was expecting Khatiwada to use his good office to bring in investment and aid, which are needed the most in the wake of the pandemic. Despite his desire to continue Yubaraj Khaitwada as the finance minister, Prime Minister KP Sharma Oli, under pressure amid the fluid internal dynamics in his Nepal Communist Party, had to bid farewell to the technocrat</td>\n",
       "    </tr>\n",
       "    <tr>\n",
       "      <th>11</th>\n",
       "      <td>September 4, 2020</td>\n",
       "      <td>Coronavirus patients in home isolation in Rupandehi complain of being neglected by authorities</td>\n",
       "      <td>Dr Pushpa Raj Paudel, the information officer at the ministry, claimed that the authorities allow patients to stay in home isolation only after monitoring their health condition and after ensuring their houses meet the standard required for home isolation.  As per the home isolation management regulation, health workers should immediately reach out to patients staying in home isolation and should inform the authorities about any health complications in the patient.  Uma Thapa, chief at the health unit of the municipality, said that health workers have been unable to reach out to every patient in home isolation for a lack of manpower and resources such as ambulances and hospital beds.  A patient of diabetes and high blood pressure, she had been staying in home isolation despite her doctor suggesting she be placed in a hospital, as there were no beds available at the corona-specific hospital in Butwal.  The number of patients staying in home isolation has increased in several districts of Province 5, as the existing hospitals in the province are already filled to their capacity</td>\n",
       "    </tr>\n",
       "    <tr>\n",
       "      <th>12</th>\n",
       "      <td>September 4, 2020</td>\n",
       "      <td>Bagmati Province proposes converting private schools into trusts and cooperatives</td>\n",
       "      <td>The government in August 2018 formed the High-level National Education Commission headed by Education Minister Giriraj Mani Pokharel which on January 15, 2019 submitted its report to Prime Minister KP Sharma Oli recommending to convert the private schools into trusts from companies within 10 years. The Social Development Ministry of Bagmati Province has come up with a proposal to convert private schools into trusts or cooperatives in the spirit of the Constitution of Nepal and as suggested by the High-Level National Education Commission.   According to Ritu Raj Sapkota, the chairperson of National Private and Boarding Schools’ Association, Nepal, private schools across the country have invested Rs 600 billion in the business and 23 percent of schoolgoers attend private schools.  How long the conversion process takes will depend on how much money the government can allocate for it,” Ranta Dhakal, a member of the provincial assembly and former chairperson of All Nepal National Independent Students' Union-Revolutionary, told the Post.  Commenting on the ministry’s change of policy, members of the commission said the government was working at the behest of private schools by not rolling out any laws to control the privatisation of education</td>\n",
       "    </tr>\n",
       "    <tr>\n",
       "      <th>13</th>\n",
       "      <td>September 4, 2020</td>\n",
       "      <td>Karnali suffers in absence of senior officials and Kathmandu transfers them frequently without consulting the province</td>\n",
       "      <td>Barely, a month later, on August 25, however, the federal government transferred Basnet to the Ministry of Culture, Tourism and Civil Aviation in Kathmandu, leaving the offices of the chief minister and the council of ministers without both the chief secretary and secretary.  Bishnu Prasad Adhikari, the spokesperson at the Social Development Ministry, said, “Junior officers have been given the responsibility of acting office chiefs and acting directors in almost all divisions and directorates in the absence of high-level government officials in the province.  The provincial government will have the authority once its Public Service Commission Act is implemented but that again is on hold as the federal parliament is yet to pass the Federal Civil Servant Act.   Minister KC, the Karnali government's spokesperson, said it was hard to execute work in the province since the federal government does not send human resources to fill critical positions in the government offices.  With little to no facilities officials transferred from Kathmandu are used to available in the province, high-level government officials the federal government appoints ask to be transferred outside Karnali, says KC</td>\n",
       "    </tr>\n",
       "    <tr>\n",
       "      <th>14</th>\n",
       "      <td>September 4, 2020</td>\n",
       "      <td>Delay in PCR test results has prompted Baglung to extend prohibitory order</td>\n",
       "      <td>The District Administration Office in Baglung has been extending the prohibitory order it had imposed in mid-August due to the delay in receiving PCR reports of coronavirus suspects.   According to Jeeban Bhandari of Galuwa, many locals in the area have been exposed to the risk of contracting the virus after they attended a feast organised by an Army personnel on August 15.   “We have extended the prohibitory order, which was to be lifted on September 3, until September 12,” said Chief District Officer in Baglung Suresh Neupane.  10 were sent for PCR test to the Pokhara-based provincial lab but the results have yet to come, prompting the authorities to extend the prohibitory order.  Ram Prasad Khanal, chief at the Health Section of Baglung Municipality, said, “It’s taking at least 10 days to receive the test results these days</td>\n",
       "    </tr>\n",
       "    <tr>\n",
       "      <th>15</th>\n",
       "      <td>September 3, 2020</td>\n",
       "      <td>Ruling party Secretariat decides to nominate Bamdev Gautam as Upper House member</td>\n",
       "      <td>Though Oli was for continuing Khatiwada as the finance minister, he was left with no choice as failure to abide by a deal he had reached with Gautam could have affected internal party dynamics, threatening his position as prime minister and party chair. The ruling Nepal Communist Party on Thursday decided to recommend party vice-chair Bamdev Gautam as a member of the National Assembly.  “Today’s meeting of the Secretariat decided to send Gautam to the National Assembly,” said Jhalanath Khanal, a senior leader of the party and a member of the Secretariat.   As per constitutional provisions, a non-elected person can be appointed a minister but he or she needs to take the oath as a member either of the House of Representatives or the National Assembly within six months of the appointment.  If Gautam is sent to the National Assembly, Yubaraj Khatiwada won’t be able to continue as the finance minister</td>\n",
       "    </tr>\n",
       "    <tr>\n",
       "      <th>16</th>\n",
       "      <td>September 3, 2020</td>\n",
       "      <td>Fifth BIMSTEC Summit proposed for January next year</td>\n",
       "      <td>Similarly, member states have also agreed to sign an agreement on Bimstec Technology Transfer Facilities, Cooperation among Diplomatic Training Academies and persons, building templates on BIMSTEC centers, entities and mechanism and finalisation of BIMSTEC Transport Connectivity Master Plan during the Colombo Summit.  Member states will discuss later on the proposal and finalise the date and other agendas like holding the ministerial level meeting in Colombo ahead of the Summit, Foreign Secretary Shanker Das Bairagi, told the Post after the meeting.  Officials said that besides finalizing the charter, the meeting of senior officials also recommended signing of the Convention on Cooperation on Criminal and Legal Matters among the member states during the Summit.  Member states agreed on Sri Lanka’s proposal to host the Summit and the ministerial level meeting next year, whose date will be confirmed later, Bairagi said. Sri Lanka, the current chair of the Bay of Bengal Initiative for Multi-Sectoral Technical and Economic Cooperation (BIMSTEC), has proposed to host the fifth summit of the regional grouping in the first half of January 2021, subject to the improved Covid-19 situation</td>\n",
       "    </tr>\n",
       "    <tr>\n",
       "      <th>17</th>\n",
       "      <td>September 3, 2020</td>\n",
       "      <td>At least 14 dead, 41 missing in flood and landslide in Baglung</td>\n",
       "      <td>“The disaster has caused massive damage to various road sections, hydropower projects, health posts and drinking water spouts in the area,” said Dhan Prasad Pokharel, chief administrative officer at Dhorpatan Municipality.   “The bodies of 14 individuals were recovered from the landslide site and by the banks of Bhuji River by late Thursday evening,” said Chief District Officer Suresh Neupane.   “Three individuals have been injured in the disaster and are currently receiving treatment at Burtibang Health Post,” said Inspector Prakash Singh Bhandari of the Area Police Office in Burtibang. ” According to Yam Bahadur Kayat, principal at Gyanodaya Secondary School in Dhortapan, a landslide triggered by heavy rainfall had occurred at Deurali along the Dhorpatan-Saljhandi road section on Wednesday night.  A preliminary report on the incident says the flooded river swept away at least 40 houses downstream in Wards 7, 8 and 9 of Dhorpatan Municipality</td>\n",
       "    </tr>\n",
       "    <tr>\n",
       "      <th>18</th>\n",
       "      <td>September 3, 2020</td>\n",
       "      <td>Ruling party Secretariat meeting deferred until 3pm as leadership faces tough choice between Khatiwada and Gautam</td>\n",
       "      <td>If Oli has to continue Yubaraj Khatiwada as the finance minister, Khatiwada must be appointed the National Assembly member by Friday, but party vice-chair Bamdev Gautam is also vying for the Upper House seat. The Secretariat meeting of the ruling Nepal Communist Party scheduled for 11am on Thursday has been postponed until 3pm after the top leadership failed to reach consensus on who to pick as a member of the National Assembly.  According to insiders, Oli later on Wednesday had urged Gautam not to aspire for the National Assembly and rather prepare to contest an election from any constituency for the House of Representatives.  As per constitutional provisions, a non-elected person can be appointed a minister but he or she needs to take the oath as a member either of the House of Representatives or the National Assembly within six months of the appointment.  Oli and the other chair Pushpa Kamal Dahal on Wednesday had held a meeting to discuss who–Khatiwada or Gautam–to make the National Assembly member</td>\n",
       "    </tr>\n",
       "    <tr>\n",
       "      <th>19</th>\n",
       "      <td>September 3, 2020</td>\n",
       "      <td>Two former lawmakers stage indefinite hunger strike demanding justice for Dalit youth who died in custody</td>\n",
       "      <td>A source at the Area Police Office in Garuda said that three police officers from the crime branch of the District Police Office had tortured Bijay in custody bypassing an investigation officer designated to probe Niranjan murder case.   Family members and friends of Bijay have claimed that Police Inspector Nabin Singh and the head constable duo Munna Singh and Firoj Alam, had tortured Bijay at the instruction of the District Police Office.  On August 18, Superintendent of Police Rabiraj Khadka, the district police chief, deployed Inspector Nabin Singh and the head constable duo Munna Singh and Firoj Alam, to Garuda to investigate the Niranjan murder case.  A police team led by Deputy Superintendent of Police Gyan Kumar Mahato, the then chief at the Area Police Office in Garuda, had then reached the site to collect the body and look for evidence.  Bishwendra Pasawan and Ramprit Paswan have been staging a fast-unto-death strike outside the Area Police Office in Garuda since Tuesday evening, demanding a fair investigation into Bijay’s death</td>\n",
       "    </tr>\n",
       "  </tbody>\n",
       "</table>\n",
       "</div>"
      ],
      "text/plain": [
       "                 Date  \\\n",
       "0   September 6, 2020   \n",
       "1   September 6, 2020   \n",
       "2   September 6, 2020   \n",
       "3   September 6, 2020   \n",
       "4   September 6, 2020   \n",
       "5   September 5, 2020   \n",
       "6   September 5, 2020   \n",
       "7   September 5, 2020   \n",
       "8   September 5, 2020   \n",
       "9   September 4, 2020   \n",
       "10  September 4, 2020   \n",
       "11  September 4, 2020   \n",
       "12  September 4, 2020   \n",
       "13  September 4, 2020   \n",
       "14  September 4, 2020   \n",
       "15  September 3, 2020   \n",
       "16  September 3, 2020   \n",
       "17  September 3, 2020   \n",
       "18  September 3, 2020   \n",
       "19  September 3, 2020   \n",
       "\n",
       "                                                                                                                     Title  \\\n",
       "0                                                         For some, the pandemic is an opportunity to start new businesses   \n",
       "1                                           Smugglers in Dadeldhura haphazardly fell trees on pretext of constructing road   \n",
       "2                                                   Around 40 percent government staff haven’t received their salaries yet   \n",
       "3                                              Relief distribution programme in Birgunj fails to cover vulnerable families   \n",
       "4                                      Job schemes come into question as virus-induced unemployment hits rural youths hard   \n",
       "5                                           Police suspect illegal gambling dens are thriving during Covid-19 restrictions   \n",
       "6                                    Overstay fines become a hurdle for Nepali workers waiting to return home from the UAE   \n",
       "7                                       Repatriation quandary persists even with funds to support migrant workers’ airfare   \n",
       "8                             How politicians' chopper rides to disaster-hit areas fly in the face of spirit of federalism   \n",
       "9                                                   Race begins for new finance minister as Oli bids farewell to Khatiwada   \n",
       "10                                                                             The good, bad and ugly of Yubaraj Khatiwada   \n",
       "11                          Coronavirus patients in home isolation in Rupandehi complain of being neglected by authorities   \n",
       "12                                       Bagmati Province proposes converting private schools into trusts and cooperatives   \n",
       "13  Karnali suffers in absence of senior officials and Kathmandu transfers them frequently without consulting the province   \n",
       "14                                              Delay in PCR test results has prompted Baglung to extend prohibitory order   \n",
       "15                                        Ruling party Secretariat decides to nominate Bamdev Gautam as Upper House member   \n",
       "16                                                                     Fifth BIMSTEC Summit proposed for January next year   \n",
       "17                                                          At least 14 dead, 41 missing in flood and landslide in Baglung   \n",
       "18       Ruling party Secretariat meeting deferred until 3pm as leadership faces tough choice between Khatiwada and Gautam   \n",
       "19               Two former lawmakers stage indefinite hunger strike demanding justice for Dalit youth who died in custody   \n",
       "\n",
       "                                                                                                                                                                                                                                                                                                                                                                                                                                                                                                                                                                                                                                                                                                                                                                                                                                                                                                                                                                                                                                                                                                                                                                                                                                                                                                                                                ArticleSummary  \n",
       "0                                                                                                                                                                                                                                                                                                                                                                                                                                                                                                                            “Friends who had tried my food have always told me to start my own food business but I never really thought I would actually start it in the midst of a pandemic,” said Bhutia.  “During the lockdown, our family business had to be shut, and I had ample free time to bake, and I resumed baking and shared my baked products with family, friends, and neighbours,” said Manandhar.   Two months after Bhutia started her business, Sushmita Manandhar started her online bakery shop (bakeaway_Nepal), on June 16.   Manandhar gets an average of five to six orders a day for cakes, muffins and cupcakes, and in a week she gets an average of six birthday cake orders.  But when the orders started increasing, I realised having home delivery services makes things much more convenient for customers,” said Manandhar  \n",
       "1                                                                                                                                                                                                                                                                                                                                                                 The incident came to light on August 22 when forest officials confiscated a large quantity of green sal logs on the road section that connects Godam bazaar in Aalital to Dola Village.   “Trees of Rajani Community Forest and the national forest adjacent to the community forest were felled haphazardly on the pretext of constructing the road,” said Ram Bahadur Kunwar, a local of Godam bazaar.   Locals said they cannot openly talk about the smugglers and timber smuggling in the forest because of an incident in which an individual, who provided information to the media about timber smuggling, was burnt alive by smugglers a decade ago.  “The spokesperson at the Division Forest Office in Dadeldhura will provide additional information about the tree felling in Rajani Community Forest and its vicinity. Hundreds of trees have been felled down on the pretext of constructing a ring road in the Chure forest area of Aalital Rural Municipality in Dadeldhura  \n",
       "2                                                                                                                                                                                                                                                                                                                                                                     For staffers at a government office to receive salaries, the office chief and chief accountant need to sign a payment order requesting the district treasury office to release funds.   “For example, the district treasury office in Singh Durbar has released the salaries of around 90 of the 100 offices under its ambit and the one in Teku has released the salaries of around 80 of the 87 offices it deals with,” said Bhurtel.  “The district treasury offices have released funds for the salaries of only 60 percent of government employees so far,” said Deputy Financial Comptroller General Bhesh Prasad Bhurtel.  Usually, the district treasury offices start releasing funds for salaries weeks before the end of the month based on financial details submitted by the concerned government offices. The Rautahat District Treasury Comptroller’s Office has not released the salaries of provincial staffers based in the district for Shrawan (mid-July-mid-August)  \n",
       "3                                                                                                                                                                                                                                                                                                                             Meanwhile, Chief District Officer of Parsa Asman Tamang said the district administration had started distributing reliefs to impoverished families through the District Police Office and Birgunj Metropolis since the past few days. On Thursday, many residents of Ranighat in Birgunj Metropolis reached the District Police Office in Parsa to receive relief after hearing about the police office’s distribution programme through a local FM station.   Khatun had also reached the police office on Thursday to receive relief but was sent away since her name was not on the list of needy people prepared by the police office.  The office had collected data of the needy families in the metropolis but on Thursday those whose names were not listed had also reached the police office.  A resident of Ranighat in Birgunj Metropolis-11, Devi says her family has been robbed of the opportunity to work since the prohibitory order was imposed in the metropolis on July 25 to control the spread of Covid-19  \n",
       "4                                                                                                                                                                                                                                                           After Covid-19 rattled the world’s economy, leading to massive job losses for Nepali workers at home and abroad, the Nepal government has pledged to create more than 700,000 jobs in the current fiscal year to provide employment to those affected by the pandemic.   The Ministry of Labour, Employment and Social Security says that the programme generated employment opportunities for its target of 60,ooo people across the country in the fiscal year 2019-20.  Besides, the Labour Ministry has also received a soft loan of approximately Rs14 billion from the World Bank to implement the Youth Employment Transformation Initiative Project, a five-year project, under the employment programme. ”  Two years into its implementation, the Prime Minister Employment Programme, which promises a minimum 100 days of employment for unemployed registered citizens, have not shown promising results.  Purna Chandra Bhattarai, a former labour secretary, said the programme, despite promising a minimum 100 days of employment, has not been able to provide jobs for 50 days   \n",
       "5                                                                                                                                                                                                                                                                          The number of arrests on illegal gambling charges has gone down as a result, say police who suspect that illegal gambling dens have thrived during these past six months of Covid-19 lockdown and restrictions.  According to the data provided by Metropolitan Police Office, Ranipokhari a total of 22 people were rounded up from illegal gambling joints in Kathmandu Valley in the last six months.  According to the data maintained by the Metropolitan Police Office, Rani Pokhari, more than Rs 19 million was recovered from 1,161 suspected gamblers from different parts of the Valley in the fiscal year 2018/19.   “We have not conducted that many raids in private houses in the past six months, as our personnel are busy due enforcing Covid-19 restrictions,” said Senior Superintendent of Police, Sushil Kumar Yadav, spokesperson for the Metropolitan Police Office, Ranipokhari. Every year, Nepal Police crack down on hundreds of illegal gambling dens which are operated mostly in private houses across the country and confiscate millions of rupees  \n",
       "6                                                                             There are many Nepali workers in the UAE, including Khem and his three friends, whose visas expired after the March 1 cutoff date and now face overstay fines and thereby unable to return home unless they pay the fines.   According to Som Prasad Lamichhane, director with the Pravasi Nepali Coordination Committee, an organisation working for the rights of Nepali migrant workers, Nepal government could have taken a diplomatic initiative to waive off the overstay fines of migrant workers.  The UAE government’s ongoing amnesty programme for foreigners, including Nepali migrants, have given a three-month grace period to the foreigners whose visa expired before March 1, meaning they have until November to return to their countries without facing any punishments or fines for overstaying their visas.  “The UAE government had approached the Nepal government about sending back Nepali workers on free flights, but the Nepal government did not even give the landing permission,” Sherpa said.   According to Pasang Sherpa, vice-chairman of Non-Resident Nepalese Association (NRNA), UAE chapter, overstay fines are being charged only to those workers boarding their flights via Dubai airport as different emirates have different rules  \n",
       "7                                                                                                                                                                 The guidelines state that the concerned recruiting agencies and foreign missions must first ensure the migrant workers have not received air tickets or other financial aid from their employers or host nations before they get support from the welfare fund to return home. The Supreme Court on June 15 ordered the government to repatriate the Nepali migrant workers stranded in various labour destinations by using the Foreign Employment Welfare Fund.  He argues the guidelines simply instruct the Nepali missions to contact the employers, recruiting agencies, or the host governments and check if the workers are getting any financial support for airfare so that they could return home.   Shom Prasad Luitel, lawyer who had filed the petition at the Supreme Court for repatriation of Nepali migrant workers, says the government and its embassies in labour hosting countries are not committed to the task of repatriating the stranded citizens.   Din Bandhu Subedi, spokesperson for the Foreign Employment Board, which manages the welfare fund, said the board had released Rs 4 million to the Nepal Embassy in Malaysia to send back 86 stranded workers  \n",
       "8     The Disaster Risk Reduction and Management Act 2017 also envisions Disaster Risk Reduction and Management Provincial Council, Disaster Risk Reduction and Management Provincial Executive Committee in each of the seven provinces and local disaster management committees in the 753 local governments.   After the 2015 constitution ensured Nepal as a federal democratic republic, elections held in 2017 installed three tiers of government across the country–a federal government in Kathmandu, seven provincial governments and 753 local governments.  “I do not see any point in ministers and leaders from Kathmandu making rounds of every other disaster-hit areas, as provincial and local governments are already in place to respond to such events” said Khimlal Devkota, an expert on federal affairs who also writes extensively on fiscal federalism.  The federal government is already facing criticism for holding on to the concept of chief district officers and making them work as the Home Ministry’s liaison in the districts even in the current federal set-up.  While there is a worldwide practice of prime ministers or presidents visiting the places hit by a disaster or crisis of a large scale, such events are largely meant to instill the feeling into the citizens that the state is there to support them  \n",
       "9                                                                                                                                                                                                                                                                       Yubaraj Khatiwada resigned as finance and information and communication technology minister on Friday, a day after the ruling Nepal Communist Party decided not to nominate him, again, as a member of the National Assembly, a prerequisite for him to continue in the Oli Cabinet.  “It had become obvious that the prime minister would bid farewell to the finance and communication minister, which he did today,” said Subash Nembang, a Standing Committee member who is a close confidante of Oli.  “Its political meaning is that Oli did not want to show that he is in a minority as Bishnu Poudel won’t go against Gautam,” said a Standing Committee member close to Madhav Nepal.  The Dahal faction, backed by senior leaders Madhav Kumar Nepal and Jhala Nath Khanal, had piled pressure on Oli to resign both as party chair and prime minister.   Leaders from the Dahal-Nepal faction said the Oli himself proposed Gautam for the Upper House as soon as the Secretariat meeting began on Thursday, sensing that annoying Gautam could push him into the minority  \n",
       "10                                                                                                                                                                                     “As a professional on economic issues, there were high hopes that the economy would take a leap under his leadership,” said Ram Sharan Mahat, a six-time finance minister who is known for introducing economic liberalisation in Nepal in the early 1990s.   “He failed to earn the trust of the market, particularly of the private sector and foreign investors,” said a former government official with a long experience in finance, economy and revenue issues.   Working in the capacity of the central bank governor and vice-chair of the planning commission, Khatiwada had built a good rapport with donor agencies like the World Bank and Asian Development Bank.   Despite severe criticism Khatiwada was facing after the latest budget, Oli was for giving continuation to him, as he was expecting Khatiwada to use his good office to bring in investment and aid, which are needed the most in the wake of the pandemic. Despite his desire to continue Yubaraj Khaitwada as the finance minister, Prime Minister KP Sharma Oli, under pressure amid the fluid internal dynamics in his Nepal Communist Party, had to bid farewell to the technocrat  \n",
       "11                                                                                                                                                                                                                        Dr Pushpa Raj Paudel, the information officer at the ministry, claimed that the authorities allow patients to stay in home isolation only after monitoring their health condition and after ensuring their houses meet the standard required for home isolation.  As per the home isolation management regulation, health workers should immediately reach out to patients staying in home isolation and should inform the authorities about any health complications in the patient.  Uma Thapa, chief at the health unit of the municipality, said that health workers have been unable to reach out to every patient in home isolation for a lack of manpower and resources such as ambulances and hospital beds.  A patient of diabetes and high blood pressure, she had been staying in home isolation despite her doctor suggesting she be placed in a hospital, as there were no beds available at the corona-specific hospital in Butwal.  The number of patients staying in home isolation has increased in several districts of Province 5, as the existing hospitals in the province are already filled to their capacity  \n",
       "12                                                    The government in August 2018 formed the High-level National Education Commission headed by Education Minister Giriraj Mani Pokharel which on January 15, 2019 submitted its report to Prime Minister KP Sharma Oli recommending to convert the private schools into trusts from companies within 10 years. The Social Development Ministry of Bagmati Province has come up with a proposal to convert private schools into trusts or cooperatives in the spirit of the Constitution of Nepal and as suggested by the High-Level National Education Commission.   According to Ritu Raj Sapkota, the chairperson of National Private and Boarding Schools’ Association, Nepal, private schools across the country have invested Rs 600 billion in the business and 23 percent of schoolgoers attend private schools.  How long the conversion process takes will depend on how much money the government can allocate for it,” Ranta Dhakal, a member of the provincial assembly and former chairperson of All Nepal National Independent Students' Union-Revolutionary, told the Post.  Commenting on the ministry’s change of policy, members of the commission said the government was working at the behest of private schools by not rolling out any laws to control the privatisation of education  \n",
       "13                                                                                                            Barely, a month later, on August 25, however, the federal government transferred Basnet to the Ministry of Culture, Tourism and Civil Aviation in Kathmandu, leaving the offices of the chief minister and the council of ministers without both the chief secretary and secretary.  Bishnu Prasad Adhikari, the spokesperson at the Social Development Ministry, said, “Junior officers have been given the responsibility of acting office chiefs and acting directors in almost all divisions and directorates in the absence of high-level government officials in the province.  The provincial government will have the authority once its Public Service Commission Act is implemented but that again is on hold as the federal parliament is yet to pass the Federal Civil Servant Act.   Minister KC, the Karnali government's spokesperson, said it was hard to execute work in the province since the federal government does not send human resources to fill critical positions in the government offices.  With little to no facilities officials transferred from Kathmandu are used to available in the province, high-level government officials the federal government appoints ask to be transferred outside Karnali, says KC  \n",
       "14                                                                                                                                                                                                                                                                                                                                                                                                                                                                                      The District Administration Office in Baglung has been extending the prohibitory order it had imposed in mid-August due to the delay in receiving PCR reports of coronavirus suspects.   According to Jeeban Bhandari of Galuwa, many locals in the area have been exposed to the risk of contracting the virus after they attended a feast organised by an Army personnel on August 15.   “We have extended the prohibitory order, which was to be lifted on September 3, until September 12,” said Chief District Officer in Baglung Suresh Neupane.  10 were sent for PCR test to the Pokhara-based provincial lab but the results have yet to come, prompting the authorities to extend the prohibitory order.  Ram Prasad Khanal, chief at the Health Section of Baglung Municipality, said, “It’s taking at least 10 days to receive the test results these days  \n",
       "15                                                                                                                                                                                                                                                                                                                                                                                                               Though Oli was for continuing Khatiwada as the finance minister, he was left with no choice as failure to abide by a deal he had reached with Gautam could have affected internal party dynamics, threatening his position as prime minister and party chair. The ruling Nepal Communist Party on Thursday decided to recommend party vice-chair Bamdev Gautam as a member of the National Assembly.  “Today’s meeting of the Secretariat decided to send Gautam to the National Assembly,” said Jhalanath Khanal, a senior leader of the party and a member of the Secretariat.   As per constitutional provisions, a non-elected person can be appointed a minister but he or she needs to take the oath as a member either of the House of Representatives or the National Assembly within six months of the appointment.  If Gautam is sent to the National Assembly, Yubaraj Khatiwada won’t be able to continue as the finance minister  \n",
       "16                                                                                                              Similarly, member states have also agreed to sign an agreement on Bimstec Technology Transfer Facilities, Cooperation among Diplomatic Training Academies and persons, building templates on BIMSTEC centers, entities and mechanism and finalisation of BIMSTEC Transport Connectivity Master Plan during the Colombo Summit.  Member states will discuss later on the proposal and finalise the date and other agendas like holding the ministerial level meeting in Colombo ahead of the Summit, Foreign Secretary Shanker Das Bairagi, told the Post after the meeting.  Officials said that besides finalizing the charter, the meeting of senior officials also recommended signing of the Convention on Cooperation on Criminal and Legal Matters among the member states during the Summit.  Member states agreed on Sri Lanka’s proposal to host the Summit and the ministerial level meeting next year, whose date will be confirmed later, Bairagi said. Sri Lanka, the current chair of the Bay of Bengal Initiative for Multi-Sectoral Technical and Economic Cooperation (BIMSTEC), has proposed to host the fifth summit of the regional grouping in the first half of January 2021, subject to the improved Covid-19 situation  \n",
       "17                                                                                                                                                                                                                                                                                                                                                               “The disaster has caused massive damage to various road sections, hydropower projects, health posts and drinking water spouts in the area,” said Dhan Prasad Pokharel, chief administrative officer at Dhorpatan Municipality.   “The bodies of 14 individuals were recovered from the landslide site and by the banks of Bhuji River by late Thursday evening,” said Chief District Officer Suresh Neupane.   “Three individuals have been injured in the disaster and are currently receiving treatment at Burtibang Health Post,” said Inspector Prakash Singh Bhandari of the Area Police Office in Burtibang. ” According to Yam Bahadur Kayat, principal at Gyanodaya Secondary School in Dhortapan, a landslide triggered by heavy rainfall had occurred at Deurali along the Dhorpatan-Saljhandi road section on Wednesday night.  A preliminary report on the incident says the flooded river swept away at least 40 houses downstream in Wards 7, 8 and 9 of Dhorpatan Municipality  \n",
       "18                                                                                                                                                                                                                                                                                                   If Oli has to continue Yubaraj Khatiwada as the finance minister, Khatiwada must be appointed the National Assembly member by Friday, but party vice-chair Bamdev Gautam is also vying for the Upper House seat. The Secretariat meeting of the ruling Nepal Communist Party scheduled for 11am on Thursday has been postponed until 3pm after the top leadership failed to reach consensus on who to pick as a member of the National Assembly.  According to insiders, Oli later on Wednesday had urged Gautam not to aspire for the National Assembly and rather prepare to contest an election from any constituency for the House of Representatives.  As per constitutional provisions, a non-elected person can be appointed a minister but he or she needs to take the oath as a member either of the House of Representatives or the National Assembly within six months of the appointment.  Oli and the other chair Pushpa Kamal Dahal on Wednesday had held a meeting to discuss who–Khatiwada or Gautam–to make the National Assembly member  \n",
       "19                                                                                                                                                                                                                                                              A source at the Area Police Office in Garuda said that three police officers from the crime branch of the District Police Office had tortured Bijay in custody bypassing an investigation officer designated to probe Niranjan murder case.   Family members and friends of Bijay have claimed that Police Inspector Nabin Singh and the head constable duo Munna Singh and Firoj Alam, had tortured Bijay at the instruction of the District Police Office.  On August 18, Superintendent of Police Rabiraj Khadka, the district police chief, deployed Inspector Nabin Singh and the head constable duo Munna Singh and Firoj Alam, to Garuda to investigate the Niranjan murder case.  A police team led by Deputy Superintendent of Police Gyan Kumar Mahato, the then chief at the Area Police Office in Garuda, had then reached the site to collect the body and look for evidence.  Bishwendra Pasawan and Ramprit Paswan have been staging a fast-unto-death strike outside the Area Police Office in Garuda since Tuesday evening, demanding a fair investigation into Bijay’s death  "
      ]
     },
     "execution_count": 82,
     "metadata": {},
     "output_type": "execute_result"
    }
   ],
   "source": [
    "df1 = related_articles(\"National\")  # summary for \"National\" newscategory\n",
    "df1"
   ]
  },
  {
   "cell_type": "code",
   "execution_count": 83,
   "metadata": {},
   "outputs": [
    {
     "data": {
      "text/plain": [
       "'  “Friends who had tried my food have always told me to start my own food business but I never really thought I would actually start it in the midst of a pandemic,” said Bhutia.  “During the lockdown, our family business had to be shut, and I had ample free time to bake, and I resumed baking and shared my baked products with family, friends, and neighbours,” said Manandhar.   Two months after Bhutia started her business, Sushmita Manandhar started her online bakery shop (bakeaway_Nepal), on June 16.   Manandhar gets an average of five to six orders a day for cakes, muffins and cupcakes, and in a week she gets an average of six birthday cake orders.  But when the orders started increasing, I realised having home delivery services makes things much more convenient for customers,” said Manandhar'"
      ]
     },
     "execution_count": 83,
     "metadata": {},
     "output_type": "execute_result"
    }
   ],
   "source": [
    "df1['ArticleSummary'][0]"
   ]
  },
  {
   "cell_type": "code",
   "execution_count": null,
   "metadata": {},
   "outputs": [],
   "source": []
  }
 ],
 "metadata": {
  "kernelspec": {
   "display_name": "Python 3",
   "language": "python",
   "name": "python3"
  },
  "language_info": {
   "codemirror_mode": {
    "name": "ipython",
    "version": 3
   },
   "file_extension": ".py",
   "mimetype": "text/x-python",
   "name": "python",
   "nbconvert_exporter": "python",
   "pygments_lexer": "ipython3",
   "version": "3.8.3"
  }
 },
 "nbformat": 4,
 "nbformat_minor": 4
}
